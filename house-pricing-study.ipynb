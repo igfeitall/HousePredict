{
 "cells": [
  {
   "cell_type": "code",
   "execution_count": 1,
   "id": "2f6f0935",
   "metadata": {
    "execution": {
     "iopub.execute_input": "2022-09-01T16:31:13.297295Z",
     "iopub.status.busy": "2022-09-01T16:31:13.295980Z",
     "iopub.status.idle": "2022-09-01T16:31:15.066518Z",
     "shell.execute_reply": "2022-09-01T16:31:15.065135Z"
    },
    "papermill": {
     "duration": 1.781002,
     "end_time": "2022-09-01T16:31:15.069858",
     "exception": false,
     "start_time": "2022-09-01T16:31:13.288856",
     "status": "completed"
    },
    "tags": []
   },
   "outputs": [],
   "source": [
    "import pandas as pd\n",
    "import numpy as np\n",
    "from sklearn.model_selection import train_test_split\n",
    "from sklearn.model_selection import GridSearchCV\n",
    "from sklearn.compose import ColumnTransformer\n",
    "from sklearn.pipeline import Pipeline\n",
    "from sklearn.impute import SimpleImputer\n",
    "from sklearn.preprocessing import OneHotEncoder\n",
    "from sklearn.preprocessing import OrdinalEncoder\n",
    "from sklearn.ensemble import RandomForestRegressor\n",
    "from xgboost import XGBRegressor\n",
    "from sklearn.metrics import mean_absolute_error"
   ]
  },
  {
   "cell_type": "markdown",
   "id": "bf033e2e",
   "metadata": {
    "papermill": {
     "duration": 0.0034,
     "end_time": "2022-09-01T16:31:15.077460",
     "exception": false,
     "start_time": "2022-09-01T16:31:15.074060",
     "status": "completed"
    },
    "tags": []
   },
   "source": [
    "## Reading data"
   ]
  },
  {
   "cell_type": "code",
   "execution_count": 2,
   "id": "f80a736f",
   "metadata": {
    "execution": {
     "iopub.execute_input": "2022-09-01T16:31:15.086835Z",
     "iopub.status.busy": "2022-09-01T16:31:15.086360Z",
     "iopub.status.idle": "2022-09-01T16:31:15.246856Z",
     "shell.execute_reply": "2022-09-01T16:31:15.245508Z"
    },
    "papermill": {
     "duration": 0.169185,
     "end_time": "2022-09-01T16:31:15.250296",
     "exception": false,
     "start_time": "2022-09-01T16:31:15.081111",
     "status": "completed"
    },
    "tags": []
   },
   "outputs": [],
   "source": [
    "# Read the data\n",
    "X_full = pd.read_csv('../input/train.csv', index_col='Id')\n",
    "X_test_full = pd.read_csv('../input/test.csv', index_col='Id')\n",
    "\n",
    "# Remove rows with missing target, separate target from predictors\n",
    "X_full.dropna(axis=0, subset=['SalePrice'], inplace=True)\n",
    "y = X_full.SalePrice\n",
    "X_full.drop(['SalePrice'], axis=1, inplace=True)\n",
    "\n",
    "# Break off validation set from training data\n",
    "#X_train_full, X_valid_full, y_train, y_valid = train_test_split(X_full, y,test_size=0.2, random_state=0)\n",
    "\n",
    "# Select categorical columns\n",
    "categorical_cols = [col for col in X_full.columns if X_full[col].dtype == \"object\"]\n",
    "\n",
    "# Separating by cardinality\n",
    "high_card_cat_cols = [col for col in categorical_cols if X_full[col].nunique() > 9]\n",
    "low_card_cat_cols = list(set(categorical_cols)-set(high_card_cat_cols))\n",
    "\n",
    "# Select numerical columns\n",
    "numerical_cols = [col for col in X_full.columns if X_full[col].dtype != \"object\"]\n",
    "\n",
    "# Keep selected columns only\n",
    "my_cols = categorical_cols + numerical_cols\n",
    "X = X_full[my_cols].copy()\n",
    "X_test = X_test_full[my_cols].copy()"
   ]
  },
  {
   "cell_type": "code",
   "execution_count": 3,
   "id": "e780b335",
   "metadata": {
    "execution": {
     "iopub.execute_input": "2022-09-01T16:31:15.260146Z",
     "iopub.status.busy": "2022-09-01T16:31:15.259640Z",
     "iopub.status.idle": "2022-09-01T16:31:15.289200Z",
     "shell.execute_reply": "2022-09-01T16:31:15.287981Z"
    },
    "papermill": {
     "duration": 0.03767,
     "end_time": "2022-09-01T16:31:15.291854",
     "exception": false,
     "start_time": "2022-09-01T16:31:15.254184",
     "status": "completed"
    },
    "tags": []
   },
   "outputs": [
    {
     "data": {
      "text/html": [
       "<div>\n",
       "<style scoped>\n",
       "    .dataframe tbody tr th:only-of-type {\n",
       "        vertical-align: middle;\n",
       "    }\n",
       "\n",
       "    .dataframe tbody tr th {\n",
       "        vertical-align: top;\n",
       "    }\n",
       "\n",
       "    .dataframe thead th {\n",
       "        text-align: right;\n",
       "    }\n",
       "</style>\n",
       "<table border=\"1\" class=\"dataframe\">\n",
       "  <thead>\n",
       "    <tr style=\"text-align: right;\">\n",
       "      <th></th>\n",
       "      <th>MSZoning</th>\n",
       "      <th>Street</th>\n",
       "      <th>Alley</th>\n",
       "      <th>LotShape</th>\n",
       "      <th>LandContour</th>\n",
       "      <th>Utilities</th>\n",
       "      <th>LotConfig</th>\n",
       "      <th>LandSlope</th>\n",
       "      <th>Neighborhood</th>\n",
       "      <th>Condition1</th>\n",
       "      <th>...</th>\n",
       "      <th>GarageArea</th>\n",
       "      <th>WoodDeckSF</th>\n",
       "      <th>OpenPorchSF</th>\n",
       "      <th>EnclosedPorch</th>\n",
       "      <th>3SsnPorch</th>\n",
       "      <th>ScreenPorch</th>\n",
       "      <th>PoolArea</th>\n",
       "      <th>MiscVal</th>\n",
       "      <th>MoSold</th>\n",
       "      <th>YrSold</th>\n",
       "    </tr>\n",
       "    <tr>\n",
       "      <th>Id</th>\n",
       "      <th></th>\n",
       "      <th></th>\n",
       "      <th></th>\n",
       "      <th></th>\n",
       "      <th></th>\n",
       "      <th></th>\n",
       "      <th></th>\n",
       "      <th></th>\n",
       "      <th></th>\n",
       "      <th></th>\n",
       "      <th></th>\n",
       "      <th></th>\n",
       "      <th></th>\n",
       "      <th></th>\n",
       "      <th></th>\n",
       "      <th></th>\n",
       "      <th></th>\n",
       "      <th></th>\n",
       "      <th></th>\n",
       "      <th></th>\n",
       "      <th></th>\n",
       "    </tr>\n",
       "  </thead>\n",
       "  <tbody>\n",
       "    <tr>\n",
       "      <th>1</th>\n",
       "      <td>RL</td>\n",
       "      <td>Pave</td>\n",
       "      <td>NaN</td>\n",
       "      <td>Reg</td>\n",
       "      <td>Lvl</td>\n",
       "      <td>AllPub</td>\n",
       "      <td>Inside</td>\n",
       "      <td>Gtl</td>\n",
       "      <td>CollgCr</td>\n",
       "      <td>Norm</td>\n",
       "      <td>...</td>\n",
       "      <td>548</td>\n",
       "      <td>0</td>\n",
       "      <td>61</td>\n",
       "      <td>0</td>\n",
       "      <td>0</td>\n",
       "      <td>0</td>\n",
       "      <td>0</td>\n",
       "      <td>0</td>\n",
       "      <td>2</td>\n",
       "      <td>2008</td>\n",
       "    </tr>\n",
       "    <tr>\n",
       "      <th>2</th>\n",
       "      <td>RL</td>\n",
       "      <td>Pave</td>\n",
       "      <td>NaN</td>\n",
       "      <td>Reg</td>\n",
       "      <td>Lvl</td>\n",
       "      <td>AllPub</td>\n",
       "      <td>FR2</td>\n",
       "      <td>Gtl</td>\n",
       "      <td>Veenker</td>\n",
       "      <td>Feedr</td>\n",
       "      <td>...</td>\n",
       "      <td>460</td>\n",
       "      <td>298</td>\n",
       "      <td>0</td>\n",
       "      <td>0</td>\n",
       "      <td>0</td>\n",
       "      <td>0</td>\n",
       "      <td>0</td>\n",
       "      <td>0</td>\n",
       "      <td>5</td>\n",
       "      <td>2007</td>\n",
       "    </tr>\n",
       "    <tr>\n",
       "      <th>3</th>\n",
       "      <td>RL</td>\n",
       "      <td>Pave</td>\n",
       "      <td>NaN</td>\n",
       "      <td>IR1</td>\n",
       "      <td>Lvl</td>\n",
       "      <td>AllPub</td>\n",
       "      <td>Inside</td>\n",
       "      <td>Gtl</td>\n",
       "      <td>CollgCr</td>\n",
       "      <td>Norm</td>\n",
       "      <td>...</td>\n",
       "      <td>608</td>\n",
       "      <td>0</td>\n",
       "      <td>42</td>\n",
       "      <td>0</td>\n",
       "      <td>0</td>\n",
       "      <td>0</td>\n",
       "      <td>0</td>\n",
       "      <td>0</td>\n",
       "      <td>9</td>\n",
       "      <td>2008</td>\n",
       "    </tr>\n",
       "    <tr>\n",
       "      <th>4</th>\n",
       "      <td>RL</td>\n",
       "      <td>Pave</td>\n",
       "      <td>NaN</td>\n",
       "      <td>IR1</td>\n",
       "      <td>Lvl</td>\n",
       "      <td>AllPub</td>\n",
       "      <td>Corner</td>\n",
       "      <td>Gtl</td>\n",
       "      <td>Crawfor</td>\n",
       "      <td>Norm</td>\n",
       "      <td>...</td>\n",
       "      <td>642</td>\n",
       "      <td>0</td>\n",
       "      <td>35</td>\n",
       "      <td>272</td>\n",
       "      <td>0</td>\n",
       "      <td>0</td>\n",
       "      <td>0</td>\n",
       "      <td>0</td>\n",
       "      <td>2</td>\n",
       "      <td>2006</td>\n",
       "    </tr>\n",
       "    <tr>\n",
       "      <th>5</th>\n",
       "      <td>RL</td>\n",
       "      <td>Pave</td>\n",
       "      <td>NaN</td>\n",
       "      <td>IR1</td>\n",
       "      <td>Lvl</td>\n",
       "      <td>AllPub</td>\n",
       "      <td>FR2</td>\n",
       "      <td>Gtl</td>\n",
       "      <td>NoRidge</td>\n",
       "      <td>Norm</td>\n",
       "      <td>...</td>\n",
       "      <td>836</td>\n",
       "      <td>192</td>\n",
       "      <td>84</td>\n",
       "      <td>0</td>\n",
       "      <td>0</td>\n",
       "      <td>0</td>\n",
       "      <td>0</td>\n",
       "      <td>0</td>\n",
       "      <td>12</td>\n",
       "      <td>2008</td>\n",
       "    </tr>\n",
       "  </tbody>\n",
       "</table>\n",
       "<p>5 rows × 79 columns</p>\n",
       "</div>"
      ],
      "text/plain": [
       "   MSZoning Street Alley LotShape LandContour Utilities LotConfig LandSlope  \\\n",
       "Id                                                                            \n",
       "1        RL   Pave   NaN      Reg         Lvl    AllPub    Inside       Gtl   \n",
       "2        RL   Pave   NaN      Reg         Lvl    AllPub       FR2       Gtl   \n",
       "3        RL   Pave   NaN      IR1         Lvl    AllPub    Inside       Gtl   \n",
       "4        RL   Pave   NaN      IR1         Lvl    AllPub    Corner       Gtl   \n",
       "5        RL   Pave   NaN      IR1         Lvl    AllPub       FR2       Gtl   \n",
       "\n",
       "   Neighborhood Condition1  ... GarageArea WoodDeckSF OpenPorchSF  \\\n",
       "Id                          ...                                     \n",
       "1       CollgCr       Norm  ...        548          0          61   \n",
       "2       Veenker      Feedr  ...        460        298           0   \n",
       "3       CollgCr       Norm  ...        608          0          42   \n",
       "4       Crawfor       Norm  ...        642          0          35   \n",
       "5       NoRidge       Norm  ...        836        192          84   \n",
       "\n",
       "   EnclosedPorch 3SsnPorch ScreenPorch PoolArea MiscVal MoSold YrSold  \n",
       "Id                                                                     \n",
       "1              0         0           0        0       0      2   2008  \n",
       "2              0         0           0        0       0      5   2007  \n",
       "3              0         0           0        0       0      9   2008  \n",
       "4            272         0           0        0       0      2   2006  \n",
       "5              0         0           0        0       0     12   2008  \n",
       "\n",
       "[5 rows x 79 columns]"
      ]
     },
     "execution_count": 3,
     "metadata": {},
     "output_type": "execute_result"
    }
   ],
   "source": [
    "X.head()"
   ]
  },
  {
   "cell_type": "markdown",
   "id": "dfddedc0",
   "metadata": {
    "papermill": {
     "duration": 0.003856,
     "end_time": "2022-09-01T16:31:15.300077",
     "exception": false,
     "start_time": "2022-09-01T16:31:15.296221",
     "status": "completed"
    },
    "tags": []
   },
   "source": [
    "## Preprocess and Pipeline create"
   ]
  },
  {
   "cell_type": "code",
   "execution_count": 4,
   "id": "bde14df8",
   "metadata": {
    "execution": {
     "iopub.execute_input": "2022-09-01T16:31:15.310128Z",
     "iopub.status.busy": "2022-09-01T16:31:15.309627Z",
     "iopub.status.idle": "2022-09-01T16:31:15.318797Z",
     "shell.execute_reply": "2022-09-01T16:31:15.317520Z"
    },
    "papermill": {
     "duration": 0.016955,
     "end_time": "2022-09-01T16:31:15.321054",
     "exception": false,
     "start_time": "2022-09-01T16:31:15.304099",
     "status": "completed"
    },
    "tags": []
   },
   "outputs": [],
   "source": [
    "# Preprocessing for numerical data\n",
    "numerical_transformer = SimpleImputer(strategy = 'median')\n",
    "\n",
    "# Preprocessing for high cardinality categorical data\n",
    "high_card_categorical_transformer = Pipeline(steps = [('imputer', SimpleImputer(strategy='most_frequent')),\n",
    "                                                      ('ordinal', OrdinalEncoder(handle_unknown=\"use_encoded_value\", unknown_value=-1))])\n",
    "\n",
    "# Preprocessing for categorical data\n",
    "categorical_transformer = Pipeline(steps = [('imputer', SimpleImputer(strategy='most_frequent')),\n",
    "                                            ('oneHote', OneHotEncoder(handle_unknown='ignore'))])\n",
    "\n",
    "\n",
    "# Bundle preprocessing for numerical and categorical data\n",
    "preprocessor = ColumnTransformer(\n",
    "    transformers=[\n",
    "        ('num', numerical_transformer, numerical_cols),\n",
    "        ('low_card_cat', categorical_transformer, low_card_cat_cols),\n",
    "        ('high_card_cat', high_card_categorical_transformer, high_card_cat_cols)\n",
    "    ])\n",
    "\n",
    "# Define model\n",
    "model_XGB = XGBRegressor()\n",
    "\n",
    "# Bundle preprocessing and modeling code in a pipeline\n",
    "my_pipeline = Pipeline([('preprocessor', preprocessor), ('model', model_XGB)])\n"
   ]
  },
  {
   "cell_type": "code",
   "execution_count": 5,
   "id": "73a1e2e5",
   "metadata": {
    "execution": {
     "iopub.execute_input": "2022-09-01T16:31:15.331154Z",
     "iopub.status.busy": "2022-09-01T16:31:15.330726Z",
     "iopub.status.idle": "2022-09-01T16:32:11.294959Z",
     "shell.execute_reply": "2022-09-01T16:32:11.293395Z"
    },
    "papermill": {
     "duration": 55.976832,
     "end_time": "2022-09-01T16:32:11.302101",
     "exception": false,
     "start_time": "2022-09-01T16:31:15.325269",
     "status": "completed"
    },
    "tags": []
   },
   "outputs": [
    {
     "name": "stdout",
     "output_type": "stream",
     "text": [
      "Best Train Score: 1830.0023196703764\n",
      "Mean Valid Score: 15941.390873822773\n",
      "Best Params: {'model__learning_rate': 0.025, 'model__n_estimators': 850}\n"
     ]
    }
   ],
   "source": [
    "# creating the param grid for grid search\n",
    "param_grid = dict(model__n_estimators=[850], model__learning_rate = [0.025])\n",
    "\n",
    "#param_grid = {}\n",
    "\n",
    "gs_XGB = GridSearchCV(my_pipeline, param_grid, cv=5, scoring='neg_mean_absolute_error', return_train_score=True)\n",
    "\n",
    "gs_XGB.fit(X,y)\n",
    "\n",
    "cv_results = pd.DataFrame(gs_XGB.cv_results_)\n",
    "\n",
    "# Evaluate the model\n",
    "print('Best Train Score:', abs(cv_results.mean_train_score[0]))\n",
    "print('Mean Valid Score:', abs(cv_results.mean_test_score[0]))\n",
    "print('Best Params:', gs_XGB.best_params_)"
   ]
  },
  {
   "cell_type": "code",
   "execution_count": 6,
   "id": "697ec607",
   "metadata": {
    "_kg_hide-input": true,
    "execution": {
     "iopub.execute_input": "2022-09-01T16:32:11.312803Z",
     "iopub.status.busy": "2022-09-01T16:32:11.312306Z",
     "iopub.status.idle": "2022-09-01T16:32:11.324165Z",
     "shell.execute_reply": "2022-09-01T16:32:11.322896Z"
    },
    "papermill": {
     "duration": 0.020671,
     "end_time": "2022-09-01T16:32:11.327150",
     "exception": false,
     "start_time": "2022-09-01T16:32:11.306479",
     "status": "completed"
    },
    "tags": []
   },
   "outputs": [
    {
     "data": {
      "text/plain": [
       "Index(['mean_fit_time', 'std_fit_time', 'mean_score_time', 'std_score_time',\n",
       "       'param_model__learning_rate', 'param_model__n_estimators', 'params',\n",
       "       'split0_test_score', 'split1_test_score', 'split2_test_score',\n",
       "       'split3_test_score', 'split4_test_score', 'mean_test_score',\n",
       "       'std_test_score', 'rank_test_score', 'split0_train_score',\n",
       "       'split1_train_score', 'split2_train_score', 'split3_train_score',\n",
       "       'split4_train_score', 'mean_train_score', 'std_train_score'],\n",
       "      dtype='object')"
      ]
     },
     "execution_count": 6,
     "metadata": {},
     "output_type": "execute_result"
    }
   ],
   "source": [
    "cv = pd.DataFrame(gs_XGB.cv_results_)\n",
    "cv.columns"
   ]
  },
  {
   "cell_type": "code",
   "execution_count": 7,
   "id": "62ab1a1c",
   "metadata": {
    "_kg_hide-input": true,
    "execution": {
     "iopub.execute_input": "2022-09-01T16:32:11.339075Z",
     "iopub.status.busy": "2022-09-01T16:32:11.338570Z",
     "iopub.status.idle": "2022-09-01T16:32:11.348403Z",
     "shell.execute_reply": "2022-09-01T16:32:11.346979Z"
    },
    "papermill": {
     "duration": 0.019918,
     "end_time": "2022-09-01T16:32:11.352143",
     "exception": false,
     "start_time": "2022-09-01T16:32:11.332225",
     "status": "completed"
    },
    "tags": []
   },
   "outputs": [
    {
     "data": {
      "text/plain": [
       "dict_keys(['memory', 'steps', 'verbose', 'preprocessor', 'model', 'preprocessor__n_jobs', 'preprocessor__remainder', 'preprocessor__sparse_threshold', 'preprocessor__transformer_weights', 'preprocessor__transformers', 'preprocessor__verbose', 'preprocessor__verbose_feature_names_out', 'preprocessor__num', 'preprocessor__low_card_cat', 'preprocessor__high_card_cat', 'preprocessor__num__add_indicator', 'preprocessor__num__copy', 'preprocessor__num__fill_value', 'preprocessor__num__missing_values', 'preprocessor__num__strategy', 'preprocessor__num__verbose', 'preprocessor__low_card_cat__memory', 'preprocessor__low_card_cat__steps', 'preprocessor__low_card_cat__verbose', 'preprocessor__low_card_cat__imputer', 'preprocessor__low_card_cat__oneHote', 'preprocessor__low_card_cat__imputer__add_indicator', 'preprocessor__low_card_cat__imputer__copy', 'preprocessor__low_card_cat__imputer__fill_value', 'preprocessor__low_card_cat__imputer__missing_values', 'preprocessor__low_card_cat__imputer__strategy', 'preprocessor__low_card_cat__imputer__verbose', 'preprocessor__low_card_cat__oneHote__categories', 'preprocessor__low_card_cat__oneHote__drop', 'preprocessor__low_card_cat__oneHote__dtype', 'preprocessor__low_card_cat__oneHote__handle_unknown', 'preprocessor__low_card_cat__oneHote__sparse', 'preprocessor__high_card_cat__memory', 'preprocessor__high_card_cat__steps', 'preprocessor__high_card_cat__verbose', 'preprocessor__high_card_cat__imputer', 'preprocessor__high_card_cat__ordinal', 'preprocessor__high_card_cat__imputer__add_indicator', 'preprocessor__high_card_cat__imputer__copy', 'preprocessor__high_card_cat__imputer__fill_value', 'preprocessor__high_card_cat__imputer__missing_values', 'preprocessor__high_card_cat__imputer__strategy', 'preprocessor__high_card_cat__imputer__verbose', 'preprocessor__high_card_cat__ordinal__categories', 'preprocessor__high_card_cat__ordinal__dtype', 'preprocessor__high_card_cat__ordinal__handle_unknown', 'preprocessor__high_card_cat__ordinal__unknown_value', 'model__objective', 'model__base_score', 'model__booster', 'model__callbacks', 'model__colsample_bylevel', 'model__colsample_bynode', 'model__colsample_bytree', 'model__early_stopping_rounds', 'model__enable_categorical', 'model__eval_metric', 'model__gamma', 'model__gpu_id', 'model__grow_policy', 'model__importance_type', 'model__interaction_constraints', 'model__learning_rate', 'model__max_bin', 'model__max_cat_to_onehot', 'model__max_delta_step', 'model__max_depth', 'model__max_leaves', 'model__min_child_weight', 'model__missing', 'model__monotone_constraints', 'model__n_estimators', 'model__n_jobs', 'model__num_parallel_tree', 'model__predictor', 'model__random_state', 'model__reg_alpha', 'model__reg_lambda', 'model__sampling_method', 'model__scale_pos_weight', 'model__subsample', 'model__tree_method', 'model__validate_parameters', 'model__verbosity'])"
      ]
     },
     "execution_count": 7,
     "metadata": {},
     "output_type": "execute_result"
    }
   ],
   "source": [
    "my_pipeline.get_params().keys()"
   ]
  },
  {
   "cell_type": "markdown",
   "id": "ff410b72",
   "metadata": {
    "papermill": {
     "duration": 0.004185,
     "end_time": "2022-09-01T16:32:11.360783",
     "exception": false,
     "start_time": "2022-09-01T16:32:11.356598",
     "status": "completed"
    },
    "tags": []
   },
   "source": [
    "## Predict on the test data"
   ]
  },
  {
   "cell_type": "code",
   "execution_count": 8,
   "id": "ebb2b5ce",
   "metadata": {
    "execution": {
     "iopub.execute_input": "2022-09-01T16:32:11.372420Z",
     "iopub.status.busy": "2022-09-01T16:32:11.371099Z",
     "iopub.status.idle": "2022-09-01T16:32:11.437392Z",
     "shell.execute_reply": "2022-09-01T16:32:11.436139Z"
    },
    "papermill": {
     "duration": 0.075264,
     "end_time": "2022-09-01T16:32:11.440394",
     "exception": false,
     "start_time": "2022-09-01T16:32:11.365130",
     "status": "completed"
    },
    "tags": []
   },
   "outputs": [],
   "source": [
    "# Preprocessing of test data, fit model\n",
    "preds_test = gs_XGB.predict(X_test)"
   ]
  },
  {
   "cell_type": "code",
   "execution_count": 9,
   "id": "870db51b",
   "metadata": {
    "execution": {
     "iopub.execute_input": "2022-09-01T16:32:11.453643Z",
     "iopub.status.busy": "2022-09-01T16:32:11.452487Z",
     "iopub.status.idle": "2022-09-01T16:32:11.466370Z",
     "shell.execute_reply": "2022-09-01T16:32:11.465275Z"
    },
    "papermill": {
     "duration": 0.023912,
     "end_time": "2022-09-01T16:32:11.469650",
     "exception": false,
     "start_time": "2022-09-01T16:32:11.445738",
     "status": "completed"
    },
    "tags": []
   },
   "outputs": [],
   "source": [
    "# Save test predictions to file\n",
    "output = pd.DataFrame({'Id': X_test.index,\n",
    "                       'SalePrice': preds_test})\n",
    "output.to_csv('submission.csv', index=False)"
   ]
  },
  {
   "cell_type": "code",
   "execution_count": null,
   "id": "6cdf80d8",
   "metadata": {
    "papermill": {
     "duration": 0.004575,
     "end_time": "2022-09-01T16:32:11.479365",
     "exception": false,
     "start_time": "2022-09-01T16:32:11.474790",
     "status": "completed"
    },
    "tags": []
   },
   "outputs": [],
   "source": []
  }
 ],
 "metadata": {
  "kernelspec": {
   "display_name": "Python 3",
   "language": "python",
   "name": "python3"
  },
  "language_info": {
   "codemirror_mode": {
    "name": "ipython",
    "version": 3
   },
   "file_extension": ".py",
   "mimetype": "text/x-python",
   "name": "python",
   "nbconvert_exporter": "python",
   "pygments_lexer": "ipython3",
   "version": "3.7.12"
  },
  "papermill": {
   "default_parameters": {},
   "duration": 69.964054,
   "end_time": "2022-09-01T16:32:12.610861",
   "environment_variables": {},
   "exception": null,
   "input_path": "__notebook__.ipynb",
   "output_path": "__notebook__.ipynb",
   "parameters": {},
   "start_time": "2022-09-01T16:31:02.646807",
   "version": "2.3.4"
  }
 },
 "nbformat": 4,
 "nbformat_minor": 5
}
