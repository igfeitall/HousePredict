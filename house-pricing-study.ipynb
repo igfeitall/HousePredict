{
 "cells": [
  {
   "cell_type": "code",
   "execution_count": 1,
   "id": "1680521e",
   "metadata": {
    "execution": {
     "iopub.execute_input": "2022-09-01T14:36:13.780471Z",
     "iopub.status.busy": "2022-09-01T14:36:13.779594Z",
     "iopub.status.idle": "2022-09-01T14:36:15.511247Z",
     "shell.execute_reply": "2022-09-01T14:36:15.510015Z"
    },
    "papermill": {
     "duration": 1.74155,
     "end_time": "2022-09-01T14:36:15.514503",
     "exception": false,
     "start_time": "2022-09-01T14:36:13.772953",
     "status": "completed"
    },
    "tags": []
   },
   "outputs": [],
   "source": [
    "import pandas as pd\n",
    "import numpy as np\n",
    "from sklearn.model_selection import train_test_split\n",
    "from sklearn.compose import ColumnTransformer\n",
    "from sklearn.pipeline import Pipeline\n",
    "from sklearn.impute import SimpleImputer\n",
    "from sklearn.preprocessing import OneHotEncoder\n",
    "from sklearn.preprocessing import OrdinalEncoder\n",
    "from sklearn.ensemble import RandomForestRegressor\n",
    "from xgboost import XGBRegressor\n",
    "from sklearn.metrics import mean_absolute_error"
   ]
  },
  {
   "cell_type": "markdown",
   "id": "213e82c1",
   "metadata": {
    "papermill": {
     "duration": 0.003385,
     "end_time": "2022-09-01T14:36:15.522847",
     "exception": false,
     "start_time": "2022-09-01T14:36:15.519462",
     "status": "completed"
    },
    "tags": []
   },
   "source": [
    "## Reading data"
   ]
  },
  {
   "cell_type": "code",
   "execution_count": 2,
   "id": "1c779369",
   "metadata": {
    "execution": {
     "iopub.execute_input": "2022-09-01T14:36:15.532429Z",
     "iopub.status.busy": "2022-09-01T14:36:15.531441Z",
     "iopub.status.idle": "2022-09-01T14:36:15.658482Z",
     "shell.execute_reply": "2022-09-01T14:36:15.657260Z"
    },
    "papermill": {
     "duration": 0.134898,
     "end_time": "2022-09-01T14:36:15.661349",
     "exception": false,
     "start_time": "2022-09-01T14:36:15.526451",
     "status": "completed"
    },
    "tags": []
   },
   "outputs": [],
   "source": [
    "# Read the data\n",
    "X_full = pd.read_csv('../input/train.csv', index_col='Id')\n",
    "X_test_full = pd.read_csv('../input/test.csv', index_col='Id')\n",
    "\n",
    "# Remove rows with missing target, separate target from predictors\n",
    "X_full.dropna(axis=0, subset=['SalePrice'], inplace=True)\n",
    "y = X_full.SalePrice\n",
    "X_full.drop(['SalePrice'], axis=1, inplace=True)\n",
    "\n",
    "# Break off validation set from training data\n",
    "X_train_full, X_valid_full, y_train, y_valid = train_test_split(X_full, y,test_size=0.2, random_state=0)\n",
    "\n",
    "# Select categorical columns with relatively low cardinality (convenient but arbitrary)\n",
    "categorical_cols = [col for col in X_train_full.columns if X_train_full[col].dtype == \"object\"]\n",
    "\n",
    "high_card_cat_cols = [col for col in categorical_cols if X_train_full[col].nunique() > 9]\n",
    "low_card_cat_cols = list(set(categorical_cols)-set(high_card_cat_cols))\n",
    "\n",
    "# Select numerical columns\n",
    "numerical_cols = [col for col in X_train_full.columns if X_train_full[col].dtype != \"object\"]\n",
    "\n",
    "# Keep selected columns only\n",
    "my_cols = categorical_cols + numerical_cols\n",
    "X_train = X_train_full[my_cols].copy()\n",
    "X_valid = X_valid_full[my_cols].copy()\n",
    "X_test = X_test_full[my_cols].copy()"
   ]
  },
  {
   "cell_type": "code",
   "execution_count": 3,
   "id": "faff122e",
   "metadata": {
    "execution": {
     "iopub.execute_input": "2022-09-01T14:36:15.670393Z",
     "iopub.status.busy": "2022-09-01T14:36:15.669942Z",
     "iopub.status.idle": "2022-09-01T14:36:15.700164Z",
     "shell.execute_reply": "2022-09-01T14:36:15.699217Z"
    },
    "papermill": {
     "duration": 0.038863,
     "end_time": "2022-09-01T14:36:15.703896",
     "exception": false,
     "start_time": "2022-09-01T14:36:15.665033",
     "status": "completed"
    },
    "tags": []
   },
   "outputs": [
    {
     "data": {
      "text/html": [
       "<div>\n",
       "<style scoped>\n",
       "    .dataframe tbody tr th:only-of-type {\n",
       "        vertical-align: middle;\n",
       "    }\n",
       "\n",
       "    .dataframe tbody tr th {\n",
       "        vertical-align: top;\n",
       "    }\n",
       "\n",
       "    .dataframe thead th {\n",
       "        text-align: right;\n",
       "    }\n",
       "</style>\n",
       "<table border=\"1\" class=\"dataframe\">\n",
       "  <thead>\n",
       "    <tr style=\"text-align: right;\">\n",
       "      <th></th>\n",
       "      <th>MSZoning</th>\n",
       "      <th>Street</th>\n",
       "      <th>Alley</th>\n",
       "      <th>LotShape</th>\n",
       "      <th>LandContour</th>\n",
       "      <th>Utilities</th>\n",
       "      <th>LotConfig</th>\n",
       "      <th>LandSlope</th>\n",
       "      <th>Neighborhood</th>\n",
       "      <th>Condition1</th>\n",
       "      <th>...</th>\n",
       "      <th>GarageArea</th>\n",
       "      <th>WoodDeckSF</th>\n",
       "      <th>OpenPorchSF</th>\n",
       "      <th>EnclosedPorch</th>\n",
       "      <th>3SsnPorch</th>\n",
       "      <th>ScreenPorch</th>\n",
       "      <th>PoolArea</th>\n",
       "      <th>MiscVal</th>\n",
       "      <th>MoSold</th>\n",
       "      <th>YrSold</th>\n",
       "    </tr>\n",
       "    <tr>\n",
       "      <th>Id</th>\n",
       "      <th></th>\n",
       "      <th></th>\n",
       "      <th></th>\n",
       "      <th></th>\n",
       "      <th></th>\n",
       "      <th></th>\n",
       "      <th></th>\n",
       "      <th></th>\n",
       "      <th></th>\n",
       "      <th></th>\n",
       "      <th></th>\n",
       "      <th></th>\n",
       "      <th></th>\n",
       "      <th></th>\n",
       "      <th></th>\n",
       "      <th></th>\n",
       "      <th></th>\n",
       "      <th></th>\n",
       "      <th></th>\n",
       "      <th></th>\n",
       "      <th></th>\n",
       "    </tr>\n",
       "  </thead>\n",
       "  <tbody>\n",
       "    <tr>\n",
       "      <th>619</th>\n",
       "      <td>RL</td>\n",
       "      <td>Pave</td>\n",
       "      <td>NaN</td>\n",
       "      <td>Reg</td>\n",
       "      <td>Lvl</td>\n",
       "      <td>AllPub</td>\n",
       "      <td>Inside</td>\n",
       "      <td>Gtl</td>\n",
       "      <td>NridgHt</td>\n",
       "      <td>Norm</td>\n",
       "      <td>...</td>\n",
       "      <td>774</td>\n",
       "      <td>0</td>\n",
       "      <td>108</td>\n",
       "      <td>0</td>\n",
       "      <td>0</td>\n",
       "      <td>260</td>\n",
       "      <td>0</td>\n",
       "      <td>0</td>\n",
       "      <td>7</td>\n",
       "      <td>2007</td>\n",
       "    </tr>\n",
       "    <tr>\n",
       "      <th>871</th>\n",
       "      <td>RL</td>\n",
       "      <td>Pave</td>\n",
       "      <td>NaN</td>\n",
       "      <td>Reg</td>\n",
       "      <td>Lvl</td>\n",
       "      <td>AllPub</td>\n",
       "      <td>Inside</td>\n",
       "      <td>Gtl</td>\n",
       "      <td>NAmes</td>\n",
       "      <td>PosN</td>\n",
       "      <td>...</td>\n",
       "      <td>308</td>\n",
       "      <td>0</td>\n",
       "      <td>0</td>\n",
       "      <td>0</td>\n",
       "      <td>0</td>\n",
       "      <td>0</td>\n",
       "      <td>0</td>\n",
       "      <td>0</td>\n",
       "      <td>8</td>\n",
       "      <td>2009</td>\n",
       "    </tr>\n",
       "    <tr>\n",
       "      <th>93</th>\n",
       "      <td>RL</td>\n",
       "      <td>Pave</td>\n",
       "      <td>Grvl</td>\n",
       "      <td>IR1</td>\n",
       "      <td>HLS</td>\n",
       "      <td>AllPub</td>\n",
       "      <td>Inside</td>\n",
       "      <td>Gtl</td>\n",
       "      <td>Crawfor</td>\n",
       "      <td>Norm</td>\n",
       "      <td>...</td>\n",
       "      <td>432</td>\n",
       "      <td>0</td>\n",
       "      <td>0</td>\n",
       "      <td>44</td>\n",
       "      <td>0</td>\n",
       "      <td>0</td>\n",
       "      <td>0</td>\n",
       "      <td>0</td>\n",
       "      <td>8</td>\n",
       "      <td>2009</td>\n",
       "    </tr>\n",
       "    <tr>\n",
       "      <th>818</th>\n",
       "      <td>RL</td>\n",
       "      <td>Pave</td>\n",
       "      <td>NaN</td>\n",
       "      <td>IR1</td>\n",
       "      <td>Lvl</td>\n",
       "      <td>AllPub</td>\n",
       "      <td>CulDSac</td>\n",
       "      <td>Gtl</td>\n",
       "      <td>Mitchel</td>\n",
       "      <td>Norm</td>\n",
       "      <td>...</td>\n",
       "      <td>857</td>\n",
       "      <td>150</td>\n",
       "      <td>59</td>\n",
       "      <td>0</td>\n",
       "      <td>0</td>\n",
       "      <td>0</td>\n",
       "      <td>0</td>\n",
       "      <td>0</td>\n",
       "      <td>7</td>\n",
       "      <td>2008</td>\n",
       "    </tr>\n",
       "    <tr>\n",
       "      <th>303</th>\n",
       "      <td>RL</td>\n",
       "      <td>Pave</td>\n",
       "      <td>NaN</td>\n",
       "      <td>IR1</td>\n",
       "      <td>Lvl</td>\n",
       "      <td>AllPub</td>\n",
       "      <td>Corner</td>\n",
       "      <td>Gtl</td>\n",
       "      <td>CollgCr</td>\n",
       "      <td>Norm</td>\n",
       "      <td>...</td>\n",
       "      <td>843</td>\n",
       "      <td>468</td>\n",
       "      <td>81</td>\n",
       "      <td>0</td>\n",
       "      <td>0</td>\n",
       "      <td>0</td>\n",
       "      <td>0</td>\n",
       "      <td>0</td>\n",
       "      <td>1</td>\n",
       "      <td>2006</td>\n",
       "    </tr>\n",
       "  </tbody>\n",
       "</table>\n",
       "<p>5 rows × 79 columns</p>\n",
       "</div>"
      ],
      "text/plain": [
       "    MSZoning Street Alley LotShape LandContour Utilities LotConfig LandSlope  \\\n",
       "Id                                                                             \n",
       "619       RL   Pave   NaN      Reg         Lvl    AllPub    Inside       Gtl   \n",
       "871       RL   Pave   NaN      Reg         Lvl    AllPub    Inside       Gtl   \n",
       "93        RL   Pave  Grvl      IR1         HLS    AllPub    Inside       Gtl   \n",
       "818       RL   Pave   NaN      IR1         Lvl    AllPub   CulDSac       Gtl   \n",
       "303       RL   Pave   NaN      IR1         Lvl    AllPub    Corner       Gtl   \n",
       "\n",
       "    Neighborhood Condition1  ... GarageArea WoodDeckSF OpenPorchSF  \\\n",
       "Id                           ...                                     \n",
       "619      NridgHt       Norm  ...        774          0         108   \n",
       "871        NAmes       PosN  ...        308          0           0   \n",
       "93       Crawfor       Norm  ...        432          0           0   \n",
       "818      Mitchel       Norm  ...        857        150          59   \n",
       "303      CollgCr       Norm  ...        843        468          81   \n",
       "\n",
       "    EnclosedPorch 3SsnPorch ScreenPorch PoolArea MiscVal MoSold YrSold  \n",
       "Id                                                                      \n",
       "619             0         0         260        0       0      7   2007  \n",
       "871             0         0           0        0       0      8   2009  \n",
       "93             44         0           0        0       0      8   2009  \n",
       "818             0         0           0        0       0      7   2008  \n",
       "303             0         0           0        0       0      1   2006  \n",
       "\n",
       "[5 rows x 79 columns]"
      ]
     },
     "execution_count": 3,
     "metadata": {},
     "output_type": "execute_result"
    }
   ],
   "source": [
    "X_train.head()"
   ]
  },
  {
   "cell_type": "markdown",
   "id": "fbde71a0",
   "metadata": {
    "papermill": {
     "duration": 0.003543,
     "end_time": "2022-09-01T14:36:15.711477",
     "exception": false,
     "start_time": "2022-09-01T14:36:15.707934",
     "status": "completed"
    },
    "tags": []
   },
   "source": [
    "## Preprocess and Pipeline create"
   ]
  },
  {
   "cell_type": "code",
   "execution_count": 4,
   "id": "9d4b3650",
   "metadata": {
    "execution": {
     "iopub.execute_input": "2022-09-01T14:36:15.723139Z",
     "iopub.status.busy": "2022-09-01T14:36:15.720915Z",
     "iopub.status.idle": "2022-09-01T14:36:15.730929Z",
     "shell.execute_reply": "2022-09-01T14:36:15.730048Z"
    },
    "papermill": {
     "duration": 0.017817,
     "end_time": "2022-09-01T14:36:15.733180",
     "exception": false,
     "start_time": "2022-09-01T14:36:15.715363",
     "status": "completed"
    },
    "tags": []
   },
   "outputs": [],
   "source": [
    "# Preprocessing for numerical data\n",
    "numerical_transformer = SimpleImputer(strategy = 'median')\n",
    "\n",
    "# Preprocessing for high cardinality categorical data\n",
    "high_card_categorical_transformer = Pipeline(steps = [('imputer', SimpleImputer(strategy='most_frequent')),\n",
    "                                            ('ordinal', OrdinalEncoder())])\n",
    "\n",
    "# Preprocessing for categorical data\n",
    "categorical_transformer = Pipeline(steps = [('imputer', SimpleImputer(strategy='most_frequent')),\n",
    "                                            ('oneHote', OneHotEncoder(handle_unknown='ignore'))])\n",
    "\n",
    "\n",
    "# Bundle preprocessing for numerical and categorical data\n",
    "preprocessor = ColumnTransformer(\n",
    "    transformers=[\n",
    "        ('num', numerical_transformer, numerical_cols),\n",
    "        ('cat', categorical_transformer, low_card_cat_cols),\n",
    "        ('high_card_cat', high_card_categorical_transformer, high_card_cat_cols)\n",
    "    ])\n",
    "\n",
    "# Define model\n",
    "model = XGBRegressor(n_estimators = 1000, learning_rate = 0.05)\n",
    "\n",
    "# Bundle preprocessing and modeling code in a pipeline\n",
    "my_pipeline = Pipeline(steps=[('preprocessor', preprocessor),\n",
    "                              ('model', model)\n",
    "                             ])\n"
   ]
  },
  {
   "cell_type": "code",
   "execution_count": 5,
   "id": "bba56d02",
   "metadata": {
    "execution": {
     "iopub.execute_input": "2022-09-01T14:36:15.743488Z",
     "iopub.status.busy": "2022-09-01T14:36:15.743024Z",
     "iopub.status.idle": "2022-09-01T14:36:25.871885Z",
     "shell.execute_reply": "2022-09-01T14:36:25.870460Z"
    },
    "papermill": {
     "duration": 10.138264,
     "end_time": "2022-09-01T14:36:25.875531",
     "exception": false,
     "start_time": "2022-09-01T14:36:15.737267",
     "status": "completed"
    },
    "tags": []
   },
   "outputs": [
    {
     "name": "stdout",
     "output_type": "stream",
     "text": [
      "MAE: 15952.733759631848\n"
     ]
    }
   ],
   "source": [
    "# Preprocessing of training data, fit model \n",
    "my_pipeline.fit(X_train, y_train)\n",
    "\n",
    "# Preprocessing of validation data, get predictions\n",
    "preds = my_pipeline.predict(X_valid)\n",
    "\n",
    "# Evaluate the model\n",
    "score = mean_absolute_error(y_valid, preds)\n",
    "print('MAE:', score)"
   ]
  },
  {
   "cell_type": "markdown",
   "id": "f8b3b15d",
   "metadata": {
    "papermill": {
     "duration": 0.00415,
     "end_time": "2022-09-01T14:36:25.884577",
     "exception": false,
     "start_time": "2022-09-01T14:36:25.880427",
     "status": "completed"
    },
    "tags": []
   },
   "source": [
    "## Predict on the test data"
   ]
  },
  {
   "cell_type": "code",
   "execution_count": 6,
   "id": "c260fda4",
   "metadata": {
    "execution": {
     "iopub.execute_input": "2022-09-01T14:36:25.894638Z",
     "iopub.status.busy": "2022-09-01T14:36:25.893786Z",
     "iopub.status.idle": "2022-09-01T14:36:25.964900Z",
     "shell.execute_reply": "2022-09-01T14:36:25.963849Z"
    },
    "papermill": {
     "duration": 0.079897,
     "end_time": "2022-09-01T14:36:25.968314",
     "exception": false,
     "start_time": "2022-09-01T14:36:25.888417",
     "status": "completed"
    },
    "tags": []
   },
   "outputs": [],
   "source": [
    "# Preprocessing of test data, fit model\n",
    "preds_test = my_pipeline.predict(X_test)"
   ]
  },
  {
   "cell_type": "code",
   "execution_count": 7,
   "id": "96e327c3",
   "metadata": {
    "execution": {
     "iopub.execute_input": "2022-09-01T14:36:25.980416Z",
     "iopub.status.busy": "2022-09-01T14:36:25.979618Z",
     "iopub.status.idle": "2022-09-01T14:36:25.992789Z",
     "shell.execute_reply": "2022-09-01T14:36:25.991498Z"
    },
    "papermill": {
     "duration": 0.022761,
     "end_time": "2022-09-01T14:36:25.995808",
     "exception": false,
     "start_time": "2022-09-01T14:36:25.973047",
     "status": "completed"
    },
    "tags": []
   },
   "outputs": [],
   "source": [
    "# Save test predictions to file\n",
    "output = pd.DataFrame({'Id': X_test.index,\n",
    "                       'SalePrice': preds_test})\n",
    "output.to_csv('submission.csv', index=False)"
   ]
  },
  {
   "cell_type": "code",
   "execution_count": null,
   "id": "fb6f3e0b",
   "metadata": {
    "papermill": {
     "duration": 0.004472,
     "end_time": "2022-09-01T14:36:26.004381",
     "exception": false,
     "start_time": "2022-09-01T14:36:25.999909",
     "status": "completed"
    },
    "tags": []
   },
   "outputs": [],
   "source": []
  }
 ],
 "metadata": {
  "kernelspec": {
   "display_name": "Python 3",
   "language": "python",
   "name": "python3"
  },
  "language_info": {
   "codemirror_mode": {
    "name": "ipython",
    "version": 3
   },
   "file_extension": ".py",
   "mimetype": "text/x-python",
   "name": "python",
   "nbconvert_exporter": "python",
   "pygments_lexer": "ipython3",
   "version": "3.7.12"
  },
  "papermill": {
   "default_parameters": {},
   "duration": 24.404296,
   "end_time": "2022-09-01T14:36:27.034591",
   "environment_variables": {},
   "exception": null,
   "input_path": "__notebook__.ipynb",
   "output_path": "__notebook__.ipynb",
   "parameters": {},
   "start_time": "2022-09-01T14:36:02.630295",
   "version": "2.3.4"
  }
 },
 "nbformat": 4,
 "nbformat_minor": 5
}
