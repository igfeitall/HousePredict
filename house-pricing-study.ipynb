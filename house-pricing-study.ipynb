{
 "cells": [
  {
   "cell_type": "code",
   "execution_count": 1,
   "id": "8538ae05",
   "metadata": {
    "execution": {
     "iopub.execute_input": "2022-09-05T18:02:42.462429Z",
     "iopub.status.busy": "2022-09-05T18:02:42.461824Z",
     "iopub.status.idle": "2022-09-05T18:02:44.136433Z",
     "shell.execute_reply": "2022-09-05T18:02:44.135343Z"
    },
    "papermill": {
     "duration": 1.684817,
     "end_time": "2022-09-05T18:02:44.139357",
     "exception": false,
     "start_time": "2022-09-05T18:02:42.454540",
     "status": "completed"
    },
    "tags": []
   },
   "outputs": [],
   "source": [
    "import pandas as pd\n",
    "import numpy as np\n",
    "from sklearn.model_selection import train_test_split\n",
    "from sklearn.model_selection import GridSearchCV\n",
    "from sklearn.compose import ColumnTransformer\n",
    "from sklearn.pipeline import Pipeline\n",
    "from sklearn.impute import SimpleImputer\n",
    "from sklearn.preprocessing import OneHotEncoder\n",
    "from sklearn.preprocessing import OrdinalEncoder\n",
    "from sklearn.preprocessing import StandardScaler\n",
    "from sklearn.preprocessing import RobustScaler\n",
    "from sklearn.ensemble import RandomForestRegressor\n",
    "from xgboost import XGBRegressor\n",
    "from sklearn.metrics import mean_absolute_error"
   ]
  },
  {
   "cell_type": "markdown",
   "id": "78f9af4a",
   "metadata": {
    "papermill": {
     "duration": 0.003948,
     "end_time": "2022-09-05T18:02:44.148265",
     "exception": false,
     "start_time": "2022-09-05T18:02:44.144317",
     "status": "completed"
    },
    "tags": []
   },
   "source": [
    "## Reading data"
   ]
  },
  {
   "cell_type": "code",
   "execution_count": 2,
   "id": "af4aec21",
   "metadata": {
    "execution": {
     "iopub.execute_input": "2022-09-05T18:02:44.158610Z",
     "iopub.status.busy": "2022-09-05T18:02:44.158178Z",
     "iopub.status.idle": "2022-09-05T18:02:44.278411Z",
     "shell.execute_reply": "2022-09-05T18:02:44.277121Z"
    },
    "papermill": {
     "duration": 0.128706,
     "end_time": "2022-09-05T18:02:44.281239",
     "exception": false,
     "start_time": "2022-09-05T18:02:44.152533",
     "status": "completed"
    },
    "tags": []
   },
   "outputs": [],
   "source": [
    "# Read the data\n",
    "X_full = pd.read_csv('../input/train.csv', index_col='Id')\n",
    "X_test_full = pd.read_csv('../input/test.csv', index_col='Id')\n",
    "\n",
    "# Remove rows with missing target, separate target from predictors\n",
    "X_full.dropna(axis=0, subset=['SalePrice'], inplace=True)\n",
    "y = X_full.SalePrice\n",
    "X_full.drop(['SalePrice'], axis=1, inplace=True)\n",
    "\n",
    "# Break off validation set from training data\n",
    "#X_train_full, X_valid_full, y_train, y_valid = train_test_split(X_full, y,test_size=0.2, random_state=0)\n",
    "\n",
    "# Select categorical columns\n",
    "categorical_cols = [col for col in X_full.columns if X_full[col].dtype == \"object\"]\n",
    "\n",
    "# Separating by cardinality\n",
    "high_card_cat_cols = [col for col in categorical_cols if X_full[col].nunique() > 9]\n",
    "low_card_cat_cols = list(set(categorical_cols)-set(high_card_cat_cols))\n",
    "\n",
    "# Select numerical columns\n",
    "numerical_cols = [col for col in X_full.columns if X_full[col].dtype != \"object\"]\n",
    "\n",
    "# Selected columns\n",
    "my_cols = categorical_cols + numerical_cols\n",
    "\n",
    "# Outlied columns\n",
    "outlied_cols = ['LotArea', 'MiscVal', '1stFlrSF', 'BsmtFinSF1', 'BsmtFinSF2', 'BsmtUnfSF', 'MasVnrArea', 'GrLivArea', 'TotalBsmtSF',\n",
    "                'WoodDeckSF', 'ScreenPorch', 'GarageArea']\n",
    "unoutlied_cols = list(set(my_cols) - set(outlied_cols))\n",
    "\n",
    "\n",
    "# Keep selected columns only\n",
    "X = X_full[my_cols].copy()\n",
    "X_test = X_test_full[my_cols].copy()"
   ]
  },
  {
   "cell_type": "code",
   "execution_count": 3,
   "id": "09577101",
   "metadata": {
    "execution": {
     "iopub.execute_input": "2022-09-05T18:02:44.291974Z",
     "iopub.status.busy": "2022-09-05T18:02:44.291527Z",
     "iopub.status.idle": "2022-09-05T18:02:44.296522Z",
     "shell.execute_reply": "2022-09-05T18:02:44.295291Z"
    },
    "papermill": {
     "duration": 0.013265,
     "end_time": "2022-09-05T18:02:44.298925",
     "exception": false,
     "start_time": "2022-09-05T18:02:44.285660",
     "status": "completed"
    },
    "tags": []
   },
   "outputs": [],
   "source": [
    "#unoutlied_cols"
   ]
  },
  {
   "cell_type": "code",
   "execution_count": 4,
   "id": "f05d0294",
   "metadata": {
    "execution": {
     "iopub.execute_input": "2022-09-05T18:02:44.309696Z",
     "iopub.status.busy": "2022-09-05T18:02:44.309274Z",
     "iopub.status.idle": "2022-09-05T18:02:44.337758Z",
     "shell.execute_reply": "2022-09-05T18:02:44.336827Z"
    },
    "papermill": {
     "duration": 0.036992,
     "end_time": "2022-09-05T18:02:44.340450",
     "exception": false,
     "start_time": "2022-09-05T18:02:44.303458",
     "status": "completed"
    },
    "tags": []
   },
   "outputs": [
    {
     "data": {
      "text/html": [
       "<div>\n",
       "<style scoped>\n",
       "    .dataframe tbody tr th:only-of-type {\n",
       "        vertical-align: middle;\n",
       "    }\n",
       "\n",
       "    .dataframe tbody tr th {\n",
       "        vertical-align: top;\n",
       "    }\n",
       "\n",
       "    .dataframe thead th {\n",
       "        text-align: right;\n",
       "    }\n",
       "</style>\n",
       "<table border=\"1\" class=\"dataframe\">\n",
       "  <thead>\n",
       "    <tr style=\"text-align: right;\">\n",
       "      <th></th>\n",
       "      <th>MSZoning</th>\n",
       "      <th>Street</th>\n",
       "      <th>Alley</th>\n",
       "      <th>LotShape</th>\n",
       "      <th>LandContour</th>\n",
       "      <th>Utilities</th>\n",
       "      <th>LotConfig</th>\n",
       "      <th>LandSlope</th>\n",
       "      <th>Neighborhood</th>\n",
       "      <th>Condition1</th>\n",
       "      <th>...</th>\n",
       "      <th>GarageArea</th>\n",
       "      <th>WoodDeckSF</th>\n",
       "      <th>OpenPorchSF</th>\n",
       "      <th>EnclosedPorch</th>\n",
       "      <th>3SsnPorch</th>\n",
       "      <th>ScreenPorch</th>\n",
       "      <th>PoolArea</th>\n",
       "      <th>MiscVal</th>\n",
       "      <th>MoSold</th>\n",
       "      <th>YrSold</th>\n",
       "    </tr>\n",
       "    <tr>\n",
       "      <th>Id</th>\n",
       "      <th></th>\n",
       "      <th></th>\n",
       "      <th></th>\n",
       "      <th></th>\n",
       "      <th></th>\n",
       "      <th></th>\n",
       "      <th></th>\n",
       "      <th></th>\n",
       "      <th></th>\n",
       "      <th></th>\n",
       "      <th></th>\n",
       "      <th></th>\n",
       "      <th></th>\n",
       "      <th></th>\n",
       "      <th></th>\n",
       "      <th></th>\n",
       "      <th></th>\n",
       "      <th></th>\n",
       "      <th></th>\n",
       "      <th></th>\n",
       "      <th></th>\n",
       "    </tr>\n",
       "  </thead>\n",
       "  <tbody>\n",
       "    <tr>\n",
       "      <th>1</th>\n",
       "      <td>RL</td>\n",
       "      <td>Pave</td>\n",
       "      <td>NaN</td>\n",
       "      <td>Reg</td>\n",
       "      <td>Lvl</td>\n",
       "      <td>AllPub</td>\n",
       "      <td>Inside</td>\n",
       "      <td>Gtl</td>\n",
       "      <td>CollgCr</td>\n",
       "      <td>Norm</td>\n",
       "      <td>...</td>\n",
       "      <td>548</td>\n",
       "      <td>0</td>\n",
       "      <td>61</td>\n",
       "      <td>0</td>\n",
       "      <td>0</td>\n",
       "      <td>0</td>\n",
       "      <td>0</td>\n",
       "      <td>0</td>\n",
       "      <td>2</td>\n",
       "      <td>2008</td>\n",
       "    </tr>\n",
       "    <tr>\n",
       "      <th>2</th>\n",
       "      <td>RL</td>\n",
       "      <td>Pave</td>\n",
       "      <td>NaN</td>\n",
       "      <td>Reg</td>\n",
       "      <td>Lvl</td>\n",
       "      <td>AllPub</td>\n",
       "      <td>FR2</td>\n",
       "      <td>Gtl</td>\n",
       "      <td>Veenker</td>\n",
       "      <td>Feedr</td>\n",
       "      <td>...</td>\n",
       "      <td>460</td>\n",
       "      <td>298</td>\n",
       "      <td>0</td>\n",
       "      <td>0</td>\n",
       "      <td>0</td>\n",
       "      <td>0</td>\n",
       "      <td>0</td>\n",
       "      <td>0</td>\n",
       "      <td>5</td>\n",
       "      <td>2007</td>\n",
       "    </tr>\n",
       "    <tr>\n",
       "      <th>3</th>\n",
       "      <td>RL</td>\n",
       "      <td>Pave</td>\n",
       "      <td>NaN</td>\n",
       "      <td>IR1</td>\n",
       "      <td>Lvl</td>\n",
       "      <td>AllPub</td>\n",
       "      <td>Inside</td>\n",
       "      <td>Gtl</td>\n",
       "      <td>CollgCr</td>\n",
       "      <td>Norm</td>\n",
       "      <td>...</td>\n",
       "      <td>608</td>\n",
       "      <td>0</td>\n",
       "      <td>42</td>\n",
       "      <td>0</td>\n",
       "      <td>0</td>\n",
       "      <td>0</td>\n",
       "      <td>0</td>\n",
       "      <td>0</td>\n",
       "      <td>9</td>\n",
       "      <td>2008</td>\n",
       "    </tr>\n",
       "    <tr>\n",
       "      <th>4</th>\n",
       "      <td>RL</td>\n",
       "      <td>Pave</td>\n",
       "      <td>NaN</td>\n",
       "      <td>IR1</td>\n",
       "      <td>Lvl</td>\n",
       "      <td>AllPub</td>\n",
       "      <td>Corner</td>\n",
       "      <td>Gtl</td>\n",
       "      <td>Crawfor</td>\n",
       "      <td>Norm</td>\n",
       "      <td>...</td>\n",
       "      <td>642</td>\n",
       "      <td>0</td>\n",
       "      <td>35</td>\n",
       "      <td>272</td>\n",
       "      <td>0</td>\n",
       "      <td>0</td>\n",
       "      <td>0</td>\n",
       "      <td>0</td>\n",
       "      <td>2</td>\n",
       "      <td>2006</td>\n",
       "    </tr>\n",
       "    <tr>\n",
       "      <th>5</th>\n",
       "      <td>RL</td>\n",
       "      <td>Pave</td>\n",
       "      <td>NaN</td>\n",
       "      <td>IR1</td>\n",
       "      <td>Lvl</td>\n",
       "      <td>AllPub</td>\n",
       "      <td>FR2</td>\n",
       "      <td>Gtl</td>\n",
       "      <td>NoRidge</td>\n",
       "      <td>Norm</td>\n",
       "      <td>...</td>\n",
       "      <td>836</td>\n",
       "      <td>192</td>\n",
       "      <td>84</td>\n",
       "      <td>0</td>\n",
       "      <td>0</td>\n",
       "      <td>0</td>\n",
       "      <td>0</td>\n",
       "      <td>0</td>\n",
       "      <td>12</td>\n",
       "      <td>2008</td>\n",
       "    </tr>\n",
       "  </tbody>\n",
       "</table>\n",
       "<p>5 rows × 79 columns</p>\n",
       "</div>"
      ],
      "text/plain": [
       "   MSZoning Street Alley LotShape LandContour Utilities LotConfig LandSlope  \\\n",
       "Id                                                                            \n",
       "1        RL   Pave   NaN      Reg         Lvl    AllPub    Inside       Gtl   \n",
       "2        RL   Pave   NaN      Reg         Lvl    AllPub       FR2       Gtl   \n",
       "3        RL   Pave   NaN      IR1         Lvl    AllPub    Inside       Gtl   \n",
       "4        RL   Pave   NaN      IR1         Lvl    AllPub    Corner       Gtl   \n",
       "5        RL   Pave   NaN      IR1         Lvl    AllPub       FR2       Gtl   \n",
       "\n",
       "   Neighborhood Condition1  ... GarageArea WoodDeckSF OpenPorchSF  \\\n",
       "Id                          ...                                     \n",
       "1       CollgCr       Norm  ...        548          0          61   \n",
       "2       Veenker      Feedr  ...        460        298           0   \n",
       "3       CollgCr       Norm  ...        608          0          42   \n",
       "4       Crawfor       Norm  ...        642          0          35   \n",
       "5       NoRidge       Norm  ...        836        192          84   \n",
       "\n",
       "   EnclosedPorch 3SsnPorch ScreenPorch PoolArea MiscVal MoSold YrSold  \n",
       "Id                                                                     \n",
       "1              0         0           0        0       0      2   2008  \n",
       "2              0         0           0        0       0      5   2007  \n",
       "3              0         0           0        0       0      9   2008  \n",
       "4            272         0           0        0       0      2   2006  \n",
       "5              0         0           0        0       0     12   2008  \n",
       "\n",
       "[5 rows x 79 columns]"
      ]
     },
     "execution_count": 4,
     "metadata": {},
     "output_type": "execute_result"
    }
   ],
   "source": [
    "X.head()"
   ]
  },
  {
   "cell_type": "code",
   "execution_count": 5,
   "id": "ee644fb4",
   "metadata": {
    "execution": {
     "iopub.execute_input": "2022-09-05T18:02:44.352019Z",
     "iopub.status.busy": "2022-09-05T18:02:44.351586Z",
     "iopub.status.idle": "2022-09-05T18:02:44.356427Z",
     "shell.execute_reply": "2022-09-05T18:02:44.355235Z"
    },
    "papermill": {
     "duration": 0.013726,
     "end_time": "2022-09-05T18:02:44.358977",
     "exception": false,
     "start_time": "2022-09-05T18:02:44.345251",
     "status": "completed"
    },
    "tags": []
   },
   "outputs": [],
   "source": [
    "#X.boxplot(column=unoutlied_cols, figsize=(40,10))"
   ]
  },
  {
   "cell_type": "markdown",
   "id": "11e41528",
   "metadata": {
    "papermill": {
     "duration": 0.004456,
     "end_time": "2022-09-05T18:02:44.368339",
     "exception": false,
     "start_time": "2022-09-05T18:02:44.363883",
     "status": "completed"
    },
    "tags": []
   },
   "source": [
    "## Preprocess and Pipeline create"
   ]
  },
  {
   "cell_type": "code",
   "execution_count": 6,
   "id": "16b2328c",
   "metadata": {
    "execution": {
     "iopub.execute_input": "2022-09-05T18:02:44.380017Z",
     "iopub.status.busy": "2022-09-05T18:02:44.379558Z",
     "iopub.status.idle": "2022-09-05T18:02:44.389047Z",
     "shell.execute_reply": "2022-09-05T18:02:44.388163Z"
    },
    "papermill": {
     "duration": 0.01831,
     "end_time": "2022-09-05T18:02:44.391322",
     "exception": false,
     "start_time": "2022-09-05T18:02:44.373012",
     "status": "completed"
    },
    "tags": []
   },
   "outputs": [],
   "source": [
    "myStandardScaler = StandardScaler()\n",
    "myRobustScaler = RobustScaler()\n",
    "\n",
    "# Preprocessing for numerical data\n",
    "numerical_transformer = SimpleImputer(strategy = 'median')\n",
    "\n",
    "# Preprocessing for high cardinality categorical data\n",
    "high_card_categorical_transformer = Pipeline(steps = [('imputer', SimpleImputer(strategy='most_frequent')),\n",
    "                                                      ('ordinal', OrdinalEncoder(handle_unknown=\"use_encoded_value\", unknown_value=-1))])\n",
    "\n",
    "# Preprocessing for categorical data\n",
    "categorical_transformer = Pipeline(steps = [('imputer', SimpleImputer(strategy='most_frequent')),\n",
    "                                            ('oneHote', OneHotEncoder(handle_unknown='ignore'))])\n",
    "\n",
    "\n",
    "# Bundle preprocessing for numerical and categorical data\n",
    "preprocessor = ColumnTransformer(\n",
    "    transformers=[\n",
    "        ('num', numerical_transformer, numerical_cols),\n",
    "        ('low_card_cat', categorical_transformer, low_card_cat_cols),\n",
    "        ('high_card_cat', high_card_categorical_transformer, high_card_cat_cols)\n",
    "    ])\n",
    "\n",
    "# Scalling the data separating the LotArea, because there is an outlier\n",
    "Scaller = ColumnTransformer(\n",
    "    transformers=[\n",
    "        ('outlied', myStandardScaler, outlied_cols),\n",
    "        ('other_cols', myRobustScaler, unoutlied_cols),\n",
    "    ])\n",
    "\n",
    "# Define model\n",
    "model_XGB = XGBRegressor()\n",
    "\n",
    "# Bundle preprocessing and modeling code in a pipeline\n",
    "my_pipeline = Pipeline([('preprocessor', preprocessor), ('scaller', myStandardScaler), ('model', model_XGB)])\n"
   ]
  },
  {
   "cell_type": "code",
   "execution_count": 7,
   "id": "a3f674af",
   "metadata": {
    "execution": {
     "iopub.execute_input": "2022-09-05T18:02:44.403067Z",
     "iopub.status.busy": "2022-09-05T18:02:44.402682Z",
     "iopub.status.idle": "2022-09-05T18:03:41.393678Z",
     "shell.execute_reply": "2022-09-05T18:03:41.392657Z"
    },
    "papermill": {
     "duration": 57.005132,
     "end_time": "2022-09-05T18:03:41.401465",
     "exception": false,
     "start_time": "2022-09-05T18:02:44.396333",
     "status": "completed"
    },
    "tags": []
   },
   "outputs": [
    {
     "name": "stdout",
     "output_type": "stream",
     "text": [
      "Best Train Score: 1830.0023196703764\n",
      "Mean Valid Score: 15964.613192958048\n"
     ]
    }
   ],
   "source": [
    "# creating the param grid for grid search\n",
    "param_grid = dict(model__n_estimators=[850], model__learning_rate = [0.025])\n",
    "\n",
    "#param_grid = {}\n",
    "\n",
    "gs_XGB = GridSearchCV(my_pipeline, param_grid, cv=5, scoring='neg_mean_absolute_error', return_train_score=True)\n",
    "\n",
    "gs_XGB.fit(X,y)\n",
    "\n",
    "cv_results = pd.DataFrame(gs_XGB.cv_results_)\n",
    "\n",
    "# Evaluate the model\n",
    "print('Best Train Score:', abs(cv_results.mean_train_score[0]))\n",
    "print('Mean Valid Score:', abs(cv_results.mean_test_score[0]))\n",
    "#print('Best Params:', gs_XGB.best_params_)"
   ]
  },
  {
   "cell_type": "code",
   "execution_count": 8,
   "id": "34c6c469",
   "metadata": {
    "_kg_hide-input": true,
    "execution": {
     "iopub.execute_input": "2022-09-05T18:03:41.413297Z",
     "iopub.status.busy": "2022-09-05T18:03:41.412416Z",
     "iopub.status.idle": "2022-09-05T18:03:41.419590Z",
     "shell.execute_reply": "2022-09-05T18:03:41.418298Z"
    },
    "papermill": {
     "duration": 0.015768,
     "end_time": "2022-09-05T18:03:41.422086",
     "exception": false,
     "start_time": "2022-09-05T18:03:41.406318",
     "status": "completed"
    },
    "tags": []
   },
   "outputs": [],
   "source": [
    "cv = pd.DataFrame(gs_XGB.cv_results_)\n",
    "#cv.columns"
   ]
  },
  {
   "cell_type": "code",
   "execution_count": 9,
   "id": "193298a6",
   "metadata": {
    "_kg_hide-input": true,
    "_kg_hide-output": true,
    "execution": {
     "iopub.execute_input": "2022-09-05T18:03:41.434099Z",
     "iopub.status.busy": "2022-09-05T18:03:41.433371Z",
     "iopub.status.idle": "2022-09-05T18:03:41.438560Z",
     "shell.execute_reply": "2022-09-05T18:03:41.437326Z"
    },
    "papermill": {
     "duration": 0.014267,
     "end_time": "2022-09-05T18:03:41.441243",
     "exception": false,
     "start_time": "2022-09-05T18:03:41.426976",
     "status": "completed"
    },
    "tags": []
   },
   "outputs": [],
   "source": [
    "#my_pipeline.get_params().keys()"
   ]
  },
  {
   "cell_type": "markdown",
   "id": "2ad7f985",
   "metadata": {
    "papermill": {
     "duration": 0.004441,
     "end_time": "2022-09-05T18:03:41.450601",
     "exception": false,
     "start_time": "2022-09-05T18:03:41.446160",
     "status": "completed"
    },
    "tags": []
   },
   "source": [
    "## Predict on the test data"
   ]
  },
  {
   "cell_type": "code",
   "execution_count": 10,
   "id": "874fc8d2",
   "metadata": {
    "execution": {
     "iopub.execute_input": "2022-09-05T18:03:41.462114Z",
     "iopub.status.busy": "2022-09-05T18:03:41.461576Z",
     "iopub.status.idle": "2022-09-05T18:03:41.522791Z",
     "shell.execute_reply": "2022-09-05T18:03:41.521805Z"
    },
    "papermill": {
     "duration": 0.070141,
     "end_time": "2022-09-05T18:03:41.525500",
     "exception": false,
     "start_time": "2022-09-05T18:03:41.455359",
     "status": "completed"
    },
    "tags": []
   },
   "outputs": [],
   "source": [
    "# Preprocessing of test data, fit model\n",
    "preds_test = gs_XGB.predict(X_test)"
   ]
  },
  {
   "cell_type": "code",
   "execution_count": 11,
   "id": "8f595f58",
   "metadata": {
    "execution": {
     "iopub.execute_input": "2022-09-05T18:03:41.538691Z",
     "iopub.status.busy": "2022-09-05T18:03:41.538228Z",
     "iopub.status.idle": "2022-09-05T18:03:41.551275Z",
     "shell.execute_reply": "2022-09-05T18:03:41.550209Z"
    },
    "papermill": {
     "duration": 0.022793,
     "end_time": "2022-09-05T18:03:41.553921",
     "exception": false,
     "start_time": "2022-09-05T18:03:41.531128",
     "status": "completed"
    },
    "tags": []
   },
   "outputs": [],
   "source": [
    "# Save test predictions to file\n",
    "output = pd.DataFrame({'Id': X_test.index,\n",
    "                       'SalePrice': preds_test})\n",
    "output.to_csv('submission.csv', index=False)"
   ]
  },
  {
   "cell_type": "code",
   "execution_count": null,
   "id": "105b631d",
   "metadata": {
    "papermill": {
     "duration": 0.004421,
     "end_time": "2022-09-05T18:03:41.563193",
     "exception": false,
     "start_time": "2022-09-05T18:03:41.558772",
     "status": "completed"
    },
    "tags": []
   },
   "outputs": [],
   "source": []
  }
 ],
 "metadata": {
  "kernelspec": {
   "display_name": "Python 3",
   "language": "python",
   "name": "python3"
  },
  "language_info": {
   "codemirror_mode": {
    "name": "ipython",
    "version": 3
   },
   "file_extension": ".py",
   "mimetype": "text/x-python",
   "name": "python",
   "nbconvert_exporter": "python",
   "pygments_lexer": "ipython3",
   "version": "3.7.12"
  },
  "papermill": {
   "default_parameters": {},
   "duration": 71.724953,
   "end_time": "2022-09-05T18:03:42.392648",
   "environment_variables": {},
   "exception": null,
   "input_path": "__notebook__.ipynb",
   "output_path": "__notebook__.ipynb",
   "parameters": {},
   "start_time": "2022-09-05T18:02:30.667695",
   "version": "2.3.4"
  }
 },
 "nbformat": 4,
 "nbformat_minor": 5
}
